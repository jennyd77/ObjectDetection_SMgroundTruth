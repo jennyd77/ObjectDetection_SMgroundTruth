{
 "cells": [
  {
   "cell_type": "markdown",
   "metadata": {},
   "source": [
    "<img src=\"images/HeadingSlideSmall.png\" width=\"400\">"
   ]
  },
  {
   "cell_type": "markdown",
   "metadata": {},
   "source": [
    "\n",
    "\n",
    "# Steps In this Demo\n",
    "\n",
    "\n",
    "1. <font size=4>[Preparing The Data](#Preparing-The-Data)</font>\n",
    "2. <font size=4>[Building the Model](#Building-the-model)</font>\n",
    "3. <font size=4>[Training on Amazon SageMaker](#Training-on-Amazon-SageMaker)</font>\n",
    "4. <font size=4>[Deploy Using Amazon SageMaker](#Deploy-Using-Amazon-SageMaker)</font>\n",
    "5. <font size=4>[Perform Inference](#Perform-Inference)</font>\n"
   ]
  },
  {
   "attachments": {
    "Screen%20Shot%202018-04-06%20at%205.20.36%20pm.png": {
     "image/png": "[encoded data removed]"
    }
   },
   "cell_type": "markdown",
   "metadata": {
    "nbpresent": {
     "id": "2f07e4c2-89a9-4f90-a83e-2ba649464826"
    }
   },
   "source": [
    "\n",
    "<img src=\"attachment:Screen%20Shot%202018-04-06%20at%205.20.36%20pm.png\" align=\"left\">"
   ]
  },
  {
   "cell_type": "markdown",
   "metadata": {
    "nbpresent": {
     "id": "f989f1ec-f936-4537-b006-1cf13251a16b"
    }
   },
   "source": [
    "# Preparing The Data\n",
    "***\n",
    "\n",
    "We will be using our own custom image classification dataset prepared using SageMaker GroundTruth. The image set that I used had 60 images. How many images do you have?\n",
    "\n",
    "My split is\n",
    "* 20 images of grapes\n",
    "* 20 images of oranges\n",
    "* 20 images of tomatoes\n",
    "\n",
    "Let's have a quick look!"
   ]
  },
  {
   "cell_type": "markdown",
   "metadata": {
    "nbpresent": {
     "id": "965468a2-a57f-4db8-a767-78cebb2862f4"
    }
   },
   "source": [
    "### 1.a - Configuring The S3 Bucket\n"
   ]
  },
  {
   "cell_type": "code",
   "execution_count": null,
   "metadata": {
    "nbpresent": {
     "id": "a4f5920f-95d4-4965-b196-05c90ee93a46"
    }
   },
   "outputs": [],
   "source": [
    "bucket='djenny-sagemaker-sydney' #'<<bucket-name>>' # customize to your bucket\n",
    "prefix = 'ChipPackets' # My sample data is labelled packets of chips, what is your data?"
   ]
  },
  {
   "cell_type": "markdown",
   "metadata": {},
   "source": [
    "### 1.b - Sample of our original dataset "
   ]
  },
  {
   "cell_type": "code",
   "execution_count": null,
   "metadata": {},
   "outputs": [],
   "source": [
    "file_name = 'images/sample_training_image.jpg' # Show one of your sample images to the readers\n",
    "\n",
    "from IPython.display import Image\n",
    "Image(file_name, width=300)  "
   ]
  },
  {
   "cell_type": "markdown",
   "metadata": {},
   "source": [
    "### 1.c SageMaker Ground Truth output manifest\n",
    "\n",
    "SageMaker Ground Truth was used to label these images and hence create our training dataset.\n",
    "Our workforce was tasked with drawing bounding boxes around the chip packets and selecting the label \"chip_packet\"\n",
    "The key component of this output is the Ground Truth output.manifest file\n",
    "\n",
    "Let's download it and take a look"
   ]
  },
  {
   "cell_type": "code",
   "execution_count": null,
   "metadata": {},
   "outputs": [],
   "source": [
    "import boto3\n",
    "s3 = boto3.client('s3')"
   ]
  },
  {
   "cell_type": "code",
   "execution_count": null,
   "metadata": {},
   "outputs": [],
   "source": [
    "# Download the augmented manifest file that GroundTruth produced (my directory is call ChipPackets, what is yours?)\n",
    "gt_output_dir = prefix + \"/output/ChipPackets/manifests/output\" \n",
    "s3.download_file(bucket, gt_output_dir + '/manifests/output.manifest', 'output.manifest')"
   ]
  },
  {
   "cell_type": "code",
   "execution_count": null,
   "metadata": {},
   "outputs": [],
   "source": [
    "import json\n",
    "with open('/manifests/output.manifest') as f:\n",
    "    first_line = f.readline()\n",
    "parsed = json.loads(first_line)\n",
    "print(json.dumps(parsed, indent=4))"
   ]
  },
  {
   "cell_type": "markdown",
   "metadata": {},
   "source": [
    "### 1.d Prepare training and validation manifest files\n",
    "\n",
    "Shuffle and then split output.manifest into train.manifest and validation.manifest\n",
    "Use a 80/20 split"
   ]
  },
  {
   "cell_type": "code",
   "execution_count": null,
   "metadata": {},
   "outputs": [],
   "source": [
    "import numpy as np\n",
    "import json\n",
    "with open('/manifests/output.manifest', 'r') as f:\n",
    "    output = [json.loads(line) for line in f.readlines()]\n",
    "\n",
    "# Shuffle output in place.\n",
    "np.random.shuffle(output)\n",
    "    \n",
    "dataset_size = len(output)\n",
    "train_test_split_index = round(dataset_size*0.8)\n",
    "\n",
    "train_data = output[:train_test_split_index]\n",
    "validation_data = output[train_test_split_index:]\n",
    "\n",
    "num_training_samples = 0\n",
    "with open('/manifests/train.manifest', 'w') as f:\n",
    "    for line in train_data:\n",
    "        f.write(json.dumps(line))\n",
    "        f.write('\\n')\n",
    "        num_training_samples += 1\n",
    "    \n",
    "with open('/manifests/validation.manifest', 'w') as f:\n",
    "    for line in validation_data:\n",
    "        f.write(json.dumps(line))\n",
    "        f.write('\\n')"
   ]
  },
  {
   "cell_type": "markdown",
   "metadata": {},
   "source": [
    "Check how many images are in our training dataset - we need to provide this as a hyperparameter to our training job"
   ]
  },
  {
   "cell_type": "code",
   "execution_count": null,
   "metadata": {},
   "outputs": [],
   "source": [
    "print(\"Number of training samples: \",num_training_samples)"
   ]
  },
  {
   "cell_type": "markdown",
   "metadata": {},
   "source": [
    "Upload train.manifest and validation.manifest to S3 in preparation for training job"
   ]
  },
  {
   "cell_type": "code",
   "execution_count": null,
   "metadata": {},
   "outputs": [],
   "source": [
    "s3.upload_file('/manifests/train.manifest',bucket, gt_output_dir + '/train.manifest')\n",
    "s3.upload_file('/manifests/validation.manifest',bucket, gt_output_dir + '/validation.manifest')"
   ]
  },
  {
   "attachments": {
    "Screen%20Shot%202018-04-06%20at%205.21.01%20pm.png": {
     "image/png": "[encoded data removed]"
    }
   },
   "cell_type": "markdown",
   "metadata": {
    "nbpresent": {
     "id": "5b19f231-687c-4b08-b97c-64aa91352f78"
    }
   },
   "source": [
    "\n",
    "<img src=\"attachment:Screen%20Shot%202018-04-06%20at%205.21.01%20pm.png\" align=\"left\">"
   ]
  },
  {
   "cell_type": "markdown",
   "metadata": {
    "nbpresent": {
     "id": "5037d7b4-a16e-4917-99eb-4b37dace0ac8"
    }
   },
   "source": [
    "# 2. Building the Model\n",
    "***\n",
    "\n"
   ]
  },
  {
   "cell_type": "markdown",
   "metadata": {},
   "source": [
    "### 2.a - Select our algorithm\n",
    "\n",
    "We will use Amazon SageMaker's Built Object Detection Algorithm"
   ]
  },
  {
   "cell_type": "code",
   "execution_count": null,
   "metadata": {
    "nbpresent": {
     "id": "a4f5920f-95d4-4965-b196-05c90ee93a46"
    }
   },
   "outputs": [],
   "source": [
    "import sagemaker\n",
    "sess = sagemaker.Session()\n",
    "\n",
    "from sagemaker import get_execution_role\n",
    "from sagemaker.amazon.amazon_estimator import get_image_uri\n",
    "\n",
    "role = get_execution_role()\n",
    "\n",
    "training_image = get_image_uri(sess.boto_region_name, 'object-detection')\n",
    "print(role)\n",
    "print(training_image)"
   ]
  },
  {
   "cell_type": "markdown",
   "metadata": {},
   "source": [
    "### 2.b Choose our hyperparameters\n",
    "\n",
    "* Using the pre-trained option (Transfer Learning)\n",
    "* Take advantage of the algorithms built-in image augmentation\n",
    "* Define the algorithm hyperparameters"
   ]
  },
  {
   "cell_type": "code",
   "execution_count": null,
   "metadata": {},
   "outputs": [],
   "source": [
    "s3_model_output_location = 's3://{}/{}/output/model'.format(bucket, prefix)\n",
    "print(s3_model_output_location)"
   ]
  },
  {
   "cell_type": "code",
   "execution_count": null,
   "metadata": {},
   "outputs": [],
   "source": [
    "od_model = sagemaker.estimator.Estimator(training_image,\n",
    "                                         role, \n",
    "                                         train_instance_count=1, \n",
    "                                         train_instance_type='ml.p3.2xlarge',\n",
    "                                         train_volume_size = 50,\n",
    "                                         train_max_run = 360000,\n",
    "                                         input_mode= 'Pipe',\n",
    "                                         output_path=s3_model_output_location,\n",
    "                                         sagemaker_session=sess)"
   ]
  },
  {
   "cell_type": "code",
   "execution_count": null,
   "metadata": {},
   "outputs": [],
   "source": [
    "od_model.set_hyperparameters(base_network='resnet-50',\n",
    "                             use_pretrained_model=1,\n",
    "                             num_classes=2,\n",
    "                             mini_batch_size=2,\n",
    "                             epochs=5,\n",
    "                             learning_rate=0.001,\n",
    "                             lr_scheduler_step='3,6',\n",
    "                             lr_scheduler_factor=0.1,\n",
    "                             optimizer='sgd',\n",
    "                             momentum=0.9,\n",
    "                             weight_decay=0.0005,\n",
    "                             overlap_threshold=0.5,\n",
    "                             nms_threshold=0.45,\n",
    "                             image_shape=300,\n",
    "                             label_width=350,\n",
    "                             num_training_samples=num_training_samples)"
   ]
  },
  {
   "attachments": {
    "Screen%20Shot%202018-04-06%20at%205.21.09%20pm.png": {
     "image/png": "[encoded data removed]"
    }
   },
   "cell_type": "markdown",
   "metadata": {
    "nbpresent": {
     "id": "c8b61bfe-e313-43b2-92bf-aa58c0e01870"
    }
   },
   "source": [
    "\n",
    "<img src=\"attachment:Screen%20Shot%202018-04-06%20at%205.21.09%20pm.png\" align=\"left\">"
   ]
  },
  {
   "cell_type": "markdown",
   "metadata": {
    "nbpresent": {
     "id": "17daae20-4e49-431a-8939-2b92e7db6799"
    }
   },
   "source": [
    "# 3. Training on Amazon SageMaker\n",
    "***"
   ]
  },
  {
   "cell_type": "markdown",
   "metadata": {
    "nbpresent": {
     "id": "7b30fd9d-0256-4270-8dfe-41b1e8ac9380"
    }
   },
   "source": [
    "### 3.a - First Defining The Training Configurations\n",
    "* Configure the output location"
   ]
  },
  {
   "cell_type": "markdown",
   "metadata": {},
   "source": [
    "* Configure the training set up"
   ]
  },
  {
   "cell_type": "markdown",
   "metadata": {},
   "source": [
    "* Setting the hyperparameters"
   ]
  },
  {
   "cell_type": "markdown",
   "metadata": {},
   "source": [
    "* Training and validation data locations\n",
    "\n",
    "Note: Tips I used for setting s3_input parameters for a job using Ground Truth output:<br>\n",
    "[Example using SageMaker low-level boto3 library](https://github.com/awslabs/amazon-sagemaker-examples/blob/master/ground_truth_labeling_jobs/from_unlabeled_data_to_deployed_machine_learning_model_ground_truth_demo_image_classification/from_unlabeled_data_to_deployed_machine_learning_model_ground_truth_demo_image_classification.ipynb \"Jupyter Notebook\")<br>\n",
    "[Code samples using SageMaker high-level library](https://github.com/aws/sagemaker-python-sdk/blob/master/tests/unit/test_session.py \"Github repo\")"
   ]
  },
  {
   "cell_type": "code",
   "execution_count": null,
   "metadata": {},
   "outputs": [],
   "source": [
    "# Make sure you specify the location of YOUR augmented manifest files here\n",
    "train_data = sagemaker.session.s3_input(\"s3://djenny-sagemaker-sydney/ChipPackets/output/ChipPackets/manifests/output/train.manifest\",\n",
    "                                        distribution='FullyReplicated',\n",
    "                                        content_type='application/x-recordio',\n",
    "                                        s3_data_type='AugmentedManifestFile',\n",
    "                                        record_wrapping='RecordIO',\n",
    "                                        attribute_names=['source-ref','ChipPackets']) \n",
    "\n",
    "validation_data = sagemaker.session.s3_input(\"s3://djenny-sagemaker-sydney/ChipPackets/output/ChipPackets/manifests/output/validation.manifest\",\n",
    "                                        distribution='FullyReplicated',\n",
    "                                        content_type='application/x-recordio',\n",
    "                                        s3_data_type='AugmentedManifestFile',\n",
    "                                        record_wrapping='RecordIO',\n",
    "                                        attribute_names=['source-ref','ChipPackets']) \n",
    "\n",
    "data_channels = {'train': train_data, 'validation': validation_data}"
   ]
  },
  {
   "cell_type": "markdown",
   "metadata": {
    "nbpresent": {
     "id": "bc647174-61b4-432b-ad7f-ba6a5fc2b177"
    }
   },
   "source": [
    "### 3.b - Submit the Training Job"
   ]
  },
  {
   "cell_type": "code",
   "execution_count": null,
   "metadata": {},
   "outputs": [],
   "source": [
    "%%time\n",
    "od_model.fit(inputs=data_channels, logs=True)"
   ]
  },
  {
   "cell_type": "markdown",
   "metadata": {
    "nbpresent": {
     "id": "b2ec1c54-2a7c-46cf-b9de-35fa9b84958d"
    }
   },
   "source": [
    "\n",
    "<img src=\"attachment:Screen%20Shot%202018-04-06%20at%205.21.16%20pm.png\" align=\"left\">\n"
   ]
  },
  {
   "cell_type": "markdown",
   "metadata": {
    "nbpresent": {
     "id": "9ad3ae1f-527e-4bc8-a491-2da1d5a4898f"
    }
   },
   "source": [
    "# 4. Deploy Using Amazon SageMaker\n",
    "\n",
    "***\n"
   ]
  },
  {
   "cell_type": "markdown",
   "metadata": {
    "nbpresent": {
     "id": "146bdfaf-9c56-4ce0-947e-fd4b31fb0733"
    }
   },
   "source": [
    "Model = Inference Code + Model Artifacts"
   ]
  },
  {
   "cell_type": "code",
   "execution_count": null,
   "metadata": {},
   "outputs": [],
   "source": [
    "object_detector = od_model.deploy(initial_instance_count = 2,  # High Availability\n",
    "                                 instance_type = 'ml.t2.medium')"
   ]
  },
  {
   "cell_type": "markdown",
   "metadata": {
    "nbpresent": {
     "id": "ac420453-fde8-4202-9ae0-23936f3cb789"
    }
   },
   "source": [
    "# 5. Perform Inference\n",
    "***"
   ]
  },
  {
   "cell_type": "markdown",
   "metadata": {
    "nbpresent": {
     "id": "8b2697e2-8c25-4f18-a4cb-271eff60fba9"
    }
   },
   "source": [
    "### 5.a - Download The Test Image"
   ]
  },
  {
   "cell_type": "code",
   "execution_count": null,
   "metadata": {},
   "outputs": [],
   "source": [
    "# If you don't have a sample image to test with, download one to this notebook instance now"
   ]
  },
  {
   "cell_type": "markdown",
   "metadata": {
    "nbpresent": {
     "id": "772b38a8-94d9-490c-a5a4-720450077fa6"
    }
   },
   "source": [
    "### 5.b - Invoke the Endpoint"
   ]
  },
  {
   "cell_type": "code",
   "execution_count": null,
   "metadata": {},
   "outputs": [],
   "source": [
    "import json\n",
    "import numpy as np\n",
    "\n",
    "file_name = 'images/test_image.jpg' # Hold out one of your images for testing purposes\n",
    "\n",
    "with open(file_name, 'rb') as f:\n",
    "    payload = f.read()\n",
    "    payload = bytearray(payload)\n",
    "\n",
    "object_detector.content_type = 'image/jpeg'\n",
    "\n",
    "results = object_detector.predict(payload)\n",
    "\n",
    "detections = json.loads(results)\n",
    "print (detections)\n"
   ]
  },
  {
   "cell_type": "code",
   "execution_count": null,
   "metadata": {},
   "outputs": [],
   "source": [
    "def visualize_detection(img_file, dets, classes=[], thresh=0.6):\n",
    "        \"\"\"\n",
    "        visualize detections in one image\n",
    "        Parameters:\n",
    "        ----------\n",
    "        img : numpy.array\n",
    "            image, in bgr format\n",
    "        dets : numpy.array\n",
    "            ssd detections, numpy.array([[id, score, x1, y1, x2, y2]...])\n",
    "            each row is one object\n",
    "        classes : tuple or list of str\n",
    "            class names\n",
    "        thresh : float\n",
    "            score threshold\n",
    "        \"\"\"\n",
    "        import random\n",
    "        import matplotlib.pyplot as plt\n",
    "        import matplotlib.image as mpimg\n",
    "\n",
    "        img=mpimg.imread(img_file)\n",
    "        plt.imshow(img)\n",
    "        height = img.shape[0]\n",
    "        width = img.shape[1]\n",
    "        colors = dict()\n",
    "        for det in dets:\n",
    "            (klass, score, x0, y0, x1, y1) = det\n",
    "            if score < thresh:\n",
    "                continue\n",
    "            cls_id = int(klass)\n",
    "            if cls_id not in colors:\n",
    "                colors[cls_id] = (random.random(), random.random(), random.random())\n",
    "            xmin = int(x0 * width)\n",
    "            ymin = int(y0 * height)\n",
    "            xmax = int(x1 * width)\n",
    "            ymax = int(y1 * height)\n",
    "            rect = plt.Rectangle((xmin, ymin), xmax - xmin,\n",
    "                                 ymax - ymin, fill=False,\n",
    "                                 edgecolor=colors[cls_id],\n",
    "                                 linewidth=3.5)\n",
    "            plt.gca().add_patch(rect)\n",
    "            class_name = str(cls_id)\n",
    "            if classes and len(classes) > cls_id:\n",
    "                class_name = classes[cls_id]\n",
    "            plt.gca().text(xmin, ymin - 2,\n",
    "                            '{:s} {:.3f}'.format(class_name, score),\n",
    "                            bbox=dict(facecolor=colors[cls_id], alpha=0.5),\n",
    "                                    fontsize=12, color='white')\n",
    "        plt.show()"
   ]
  },
  {
   "cell_type": "code",
   "execution_count": null,
   "metadata": {},
   "outputs": [],
   "source": [
    "# Make sure you change the categories to your own\n",
    "object_categories = ['chip_packet', 'unknown']\n",
    "\n",
    "# Setting a threshold 0.70 will only plot detection results that have a confidence score greater than 70%.\n",
    "threshold = 0.70\n",
    "\n",
    "# Visualize the detections.\n",
    "visualize_detection(file_name, detections['prediction'], object_categories, threshold)"
   ]
  },
  {
   "cell_type": "markdown",
   "metadata": {
    "nbpresent": {
     "id": "ff807d4b-9339-4f1c-be95-6f4b6410ebad"
    }
   },
   "source": [
    "#### Clean up\n"
   ]
  },
  {
   "cell_type": "code",
   "execution_count": null,
   "metadata": {
    "nbpresent": {
     "id": "876879f3-134f-42cc-abd5-1c77e89917f0"
    }
   },
   "outputs": [],
   "source": [
    "sagemaker.Session().delete_endpoint(image_classifier.endpoint)"
   ]
  },
  {
   "cell_type": "code",
   "execution_count": null,
   "metadata": {},
   "outputs": [],
   "source": []
  }
 ],
 "metadata": {
  "kernelspec": {
   "display_name": "conda_mxnet_p36",
   "language": "python",
   "name": "conda_mxnet_p36"
  },
  "language_info": {
   "codemirror_mode": {
    "name": "ipython",
    "version": 3
   },
   "file_extension": ".py",
   "mimetype": "text/x-python",
   "name": "python",
   "nbconvert_exporter": "python",
   "pygments_lexer": "ipython3",
   "version": "3.6.10"
  }
 },
 "nbformat": 4,
 "nbformat_minor": 2
}
